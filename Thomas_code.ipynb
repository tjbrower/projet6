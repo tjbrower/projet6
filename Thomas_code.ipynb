{
 "cells": [
  {
   "cell_type": "code",
   "execution_count": 1,
   "metadata": {},
   "outputs": [],
   "source": [
    "import numpy as np\n",
    "import seaborn as sns\n",
    "from sklearn.linear_model import LinearRegression as LR\n",
    "import pandas as pd\n",
    "import matplotlib.pyplot as plt\n",
    "import statsmodels as sm"
   ]
  },
  {
   "cell_type": "code",
   "execution_count": 2,
   "metadata": {},
   "outputs": [
    {
     "data": {
      "text/html": [
       "<div>\n",
       "<style scoped>\n",
       "    .dataframe tbody tr th:only-of-type {\n",
       "        vertical-align: middle;\n",
       "    }\n",
       "\n",
       "    .dataframe tbody tr th {\n",
       "        vertical-align: top;\n",
       "    }\n",
       "\n",
       "    .dataframe thead th {\n",
       "        text-align: right;\n",
       "    }\n",
       "</style>\n",
       "<table border=\"1\" class=\"dataframe\">\n",
       "  <thead>\n",
       "    <tr style=\"text-align: right;\">\n",
       "      <th></th>\n",
       "      <th>Date</th>\n",
       "      <th>Segment_id</th>\n",
       "      <th>x</th>\n",
       "      <th>y</th>\n",
       "      <th>Evapotranspiration</th>\n",
       "      <th>Precipitation</th>\n",
       "      <th>Irrigation_pumping</th>\n",
       "      <th>Observed</th>\n",
       "    </tr>\n",
       "  </thead>\n",
       "  <tbody>\n",
       "    <tr>\n",
       "      <th>0</th>\n",
       "      <td>710732</td>\n",
       "      <td>144</td>\n",
       "      <td>1086190</td>\n",
       "      <td>14476800</td>\n",
       "      <td>0.59</td>\n",
       "      <td>18.99</td>\n",
       "      <td>0.0</td>\n",
       "      <td>0.145161</td>\n",
       "    </tr>\n",
       "    <tr>\n",
       "      <th>1</th>\n",
       "      <td>710763</td>\n",
       "      <td>144</td>\n",
       "      <td>1086190</td>\n",
       "      <td>14476800</td>\n",
       "      <td>0.97</td>\n",
       "      <td>29.63</td>\n",
       "      <td>0.0</td>\n",
       "      <td>0.445161</td>\n",
       "    </tr>\n",
       "    <tr>\n",
       "      <th>2</th>\n",
       "      <td>710791</td>\n",
       "      <td>144</td>\n",
       "      <td>1086190</td>\n",
       "      <td>14476800</td>\n",
       "      <td>1.34</td>\n",
       "      <td>29.63</td>\n",
       "      <td>0.0</td>\n",
       "      <td>1.332203</td>\n",
       "    </tr>\n",
       "    <tr>\n",
       "      <th>3</th>\n",
       "      <td>710822</td>\n",
       "      <td>144</td>\n",
       "      <td>1086190</td>\n",
       "      <td>14476800</td>\n",
       "      <td>1.79</td>\n",
       "      <td>29.63</td>\n",
       "      <td>0.0</td>\n",
       "      <td>2.932203</td>\n",
       "    </tr>\n",
       "    <tr>\n",
       "      <th>4</th>\n",
       "      <td>710852</td>\n",
       "      <td>144</td>\n",
       "      <td>1086190</td>\n",
       "      <td>14476800</td>\n",
       "      <td>8.23</td>\n",
       "      <td>29.63</td>\n",
       "      <td>0.0</td>\n",
       "      <td>3.728689</td>\n",
       "    </tr>\n",
       "  </tbody>\n",
       "</table>\n",
       "</div>"
      ],
      "text/plain": [
       "     Date  Segment_id        x         y  Evapotranspiration  Precipitation  \\\n",
       "0  710732         144  1086190  14476800                0.59          18.99   \n",
       "1  710763         144  1086190  14476800                0.97          29.63   \n",
       "2  710791         144  1086190  14476800                1.34          29.63   \n",
       "3  710822         144  1086190  14476800                1.79          29.63   \n",
       "4  710852         144  1086190  14476800                8.23          29.63   \n",
       "\n",
       "   Irrigation_pumping  Observed  \n",
       "0                 0.0  0.145161  \n",
       "1                 0.0  0.445161  \n",
       "2                 0.0  1.332203  \n",
       "3                 0.0  2.932203  \n",
       "4                 0.0  3.728689  "
      ]
     },
     "execution_count": 2,
     "metadata": {},
     "output_type": "execute_result"
    }
   ],
   "source": [
    "df = pd.read_csv('RRCA_baseflow.csv')\n",
    "input_df = df.drop(['Observed'], axis=1)\n",
    "output_df = df[['Observed']]\n",
    "df.head(5)"
   ]
  },
  {
   "cell_type": "code",
   "execution_count": 3,
   "metadata": {},
   "outputs": [
    {
     "data": {
      "text/plain": [
       "0.23561219615552864"
      ]
     },
     "metadata": {},
     "output_type": "display_data"
    }
   ],
   "source": [
    "df_LR = LR()\n",
    "df_LR.fit(input_df, output_df)\n",
    "display(df_LR.score(input_df, output_df))"
   ]
  },
  {
   "cell_type": "code",
   "execution_count": 4,
   "metadata": {},
   "outputs": [
    {
     "data": {
      "text/plain": [
       "<matplotlib.collections.PathCollection at 0x135f8de4a58>"
      ]
     },
     "execution_count": 4,
     "metadata": {},
     "output_type": "execute_result"
    },
    {
     "data": {
      "image/png": "[encoded data removed]",
      "text/plain": [
       "<Figure size 432x288 with 1 Axes>"
      ]
     },
     "metadata": {
      "needs_background": "light"
     },
     "output_type": "display_data"
    }
   ],
   "source": [
    "general_plot_df = df[['Date', 'Observed']]\n",
    "general_plot_df.head(5)\n",
    "plt.figure()\n",
    "plt.scatter(general_plot_df.Date.values, general_plot_df.Observed.values)"
   ]
  },
  {
   "cell_type": "markdown",
   "metadata": {},
   "source": [
    "# Breaking it down into river segments"
   ]
  },
  {
   "cell_type": "code",
   "execution_count": 20,
   "metadata": {},
   "outputs": [
    {
     "data": {
      "text/plain": [
       "'segmentId,Evapotranspiration,Precipitation,IrrigationPumping,EvapotranspirationAndPrecipitation,EvapotranspirationAndIrrigationPumping,PrecipitationAndIrrigationPumping,all3Used\\r\\n144,0.03928260689272178,0.0007044612286625229,0.04610856722373258,0.040650597180940884,0.06508544839658226,0.046888387363701156,0.17751164558989696\\r\\n154,0.0865247423656449,0.12437657101152753,0.06526862570225667,0.20296994428081816,0.09141499748242843,0.18072338701165402,0.2260057220798466\\r\\n176,0.14060016307122503,0.47361073407836635,0.0845464403352435,0.5751546847299771,0.16376181598717698,0.4841389105973487,0.7228967066548906\\r\\n171,0.0023416657669337315,0.02505125701450006,0.005617728920467191,0.025491127546690917,0.005808002137933087,0.030133064080052452,0.09507460484814512\\r\\n152,0.1285744597087991,0.3581441236762791,0.019181068993281647,0.37104781724693403,0.18532067913384567,0.38197599502321905,0.40416695953105497\\r\\n55,0.04679377886316571,0.029554548857466334,0.06977291941638553,0.08336863490031499,0.07844234759120061,0.09891254030965924,0.18725227691717217\\r\\n118,0.163320067388247,0.15046349687005933,0.10810532935693086,0.29707065446515435,0.18684263302857562,0.28144708478381175,0.35262549849793645\\r\\n65,0.3891521695952634,0.03068953187331602,0.3948818551230915,0.4127347711156899,0.49052742896384915,0.4136207399313538,0.6943470859945131\\r\\n64,0.15219442476771117,0.046034234248392036,0.03265091544583143,0.18026557922370245,0.15478217742221856,0.08088098617279182,0.3791697388971479\\r\\n63,0.3930177429059699,0.12198158324958608,0.2623465971054135,0.4497399193596233,0.4250413687640521,0.3621583942187304,0.5182989868342441\\r\\n40,0.18739402564917707,0.031337746233058295,0.36974644837355797,0.20195861981844876,0.37158967309246516,0.3778794549821667,0.4280916521017729\\r\\n135,0.12678554684239718,0.009960502219303113,0.3544545840181098,0.14289725893025262,0.35456955126049283,0.3585774955652842,0.5348984590547401\\r\\n53,0.11146652492319487,7.809651041779109e-05,0.010844401483380284,0.11149257608289387,0.11893655891446542,0.010920693777442647,0.8306475939227601\\r\\n123,0.6750504547659583,0.12106311778718803,0.0,0.9372230349581705,0.6750504547659583,0.12106311778718803,0.937805485613047\\r\\n157,0.40582103971443007,0.14815570083417162,0.018221750322718444,0.5261685475023458,0.41710903948559963,0.21057715920898668,0.5978713813302364\\r\\n147,0.024188292392583133,0.0016504243115494919,0.21802240038934384,0.02683005602897237,0.22401011666563497,0.21987673544770034,0.7236257184631808\\r\\n170,0.28563833177862585,0.0110089884738932,0.41020630091001253,0.28964275796886496,0.44106522644644275,0.4190382842668685,0.47641129037874974\\r\\n136,0.6020480885546153,0.044490959642001005,0.19971949063864658,0.6201126435361455,0.6079424525771684,0.25205340057604,0.6445479694651781\\r\\n149,0.039235504161494905,0.17003640280108767,0.0019899755898095117,0.19625675926088515,0.04685303626004955,0.1728148737607541,0.29425413493727737\\r\\n60,0.3624260602373657,0.052900094391068686,0.4517596569244013,0.39683296101987353,0.48277968520134096,0.48194001831065936,0.5232670443447944\\r\\n188,0.10960444974528027,0.035450028101206676,0.3074719318696246,0.1359634581214213,0.3075826120583488,0.34146595057786944,0.49563199946998604\\r\\n194,0.4307324231677429,0.11787420176075514,0.48579725124621076,0.515044729971321,0.5189089476113652,0.5683057393622419,0.6159584101939218\\r\\n239,0.029080389916000038,0.18867319059087007,0.0720537535455068,0.20974225232569255,0.07343744359032456,0.24462021761483266,0.2824486038853492\\r\\n256,0.0006257572572758718,0.1569148888040619,0.0,0.1569755298876092,0.0006257572572758718,0.156914888804062,0.2011410542171439\\r\\n205,0.09554917007044461,0.07853242551616302,0.11243097805660106,0.1724487063546828,0.13671027348707876,0.1964930798076383,0.22103031117872618\\r\\n59,0.07519722593268041,0.019850012557623642,0.15500725396193882,0.09039668160786163,0.15700984481752756,0.16487339750861182,0.6734854066211118\\r\\n148,0.12531319797374563,0.04358827578336822,0.1892123922543597,0.1518603626688968,0.19946763764282874,0.22315513575591375,0.22960063158966726\\r\\n138,0.00802700187786165,0.026362061756139758,0.05707818864680713,0.032638935812562275,0.07744100123049047,0.07333559228323305,0.743628981735523\\r\\n62,0.30882841922068305,0.14716784627735358,0.22602885430920927,0.3825154601485172,0.33299263832319104,0.3469320108929558,0.4150038922544374\\r\\n96,0.01705842392029233,0.08445959716128448,0.05839369185767618,0.09830519971503614,0.059258691002098685,0.13464593308097816,0.16604305574256337\\r\\n178,0.12282770990724412,0.06661126844926657,0.15414089027271183,0.1783804027179916,0.16338645021529308,0.21559692675894604,0.2624169000571822\\r\\n186,0.19808146788106384,0.033491752396719976,0.0,0.2329334136318915,0.19808146788106384,0.033491752396719976,0.3120653707820016\\r\\n159,0.22331692980459794,0.026935959246614627,0.05465339799620417,0.23809298350356745,0.230291321808434,0.07748474901312963,0.5226265837251144\\r\\n130,0.16067147626496947,0.024647240999239206,0.3039606248775736,0.18002658593610021,0.3230415889753607,0.32349475552705875,0.6219924841616633\\r\\n97,0.6018365853809386,0.05855134785882532,0.4706706795818708,0.6381661904011602,0.6332173946001431,0.5196466169375382,0.6914757984924859\\r\\n51,0.0,0.0,0.0,0.0,0.0,0.0,0.03282587501443679\\r\\n145,0.0,0.0,0.0,0.0,0.0,0.0,0.012627226083455123\\r\\n196,0.0,0.0,0.0,0.0,0.0,0.0,1.593988726311668e-05\\r\\n146,0.0,0.0,0.0,0.0,0.0,0.0,0.1455569145364637\\r\\n189,0.0,0.0,0.0,0.0,0.0,0.0,0.12599598041968418\\r\\n56,0.0,0.0,0.0,0.0,0.0,0.0,0.6017162432180048\\r\\n98,0.0,0.0,0.0,0.0,0.0,0.0,0.38265592589119024\\r\\n'"
      ]
     },
     "execution_count": 20,
     "metadata": {},
     "output_type": "execute_result"
    }
   ],
   "source": [
    "data_frame_list = []\n",
    "r_scores_for_each_segment = []\n",
    "all_grid_scores = []\n",
    "for segment in df.Segment_id.unique():\n",
    "    current_segment = df[df.Segment_id == segment]\n",
    "    segment_input = current_segment.drop(['Observed'], axis=1)\n",
    "    segment_output = current_segment[['Observed']]\n",
    "    segment_LR = LR()\n",
    "    segment_LR.fit(segment_input, segment_output)\n",
    "    columns = ['Evapotranspiration', 'Precipitation', 'Irrigation_pumping']\n",
    "    r_scores_for_each_segment.append(segment_LR.score(segment_input, segment_output))\n",
    "\n",
    "    grid_results = []\n",
    "    for j in columns:\n",
    "        new_input = current_segment[[j]]\n",
    "        #display(new_input.shape, segment_output.shape)\n",
    "        grid_LR = LR()\n",
    "        grid_LR.fit(new_input, segment_output)\n",
    "        grid_results.append(grid_LR.score(new_input, segment_output))\n",
    "    grid1, grid2, grid3 = grid_results[0], grid_results[1], grid_results[2]\n",
    "    all_grid_scores.append(grid_results)\n",
    "  \n",
    "#     test_df = current_segment[['Evapotranspiration', 'Precipitation']]\n",
    "#     display(test_df.head(5))\n",
    "    other_grid = []\n",
    "    for k in range(3):\n",
    "        for x in range(3):\n",
    "            if x <= k:\n",
    "                continue\n",
    "            else:\n",
    "                new_df = current_segment[[columns[k], columns[x]]]\n",
    "                other_grid_LR = LR()\n",
    "                other_grid_LR.fit(new_df, segment_output)\n",
    "                other_grid.append(other_grid_LR.score(new_df, segment_output))\n",
    "    other_grid1, other_grid2, other_grid3 = other_grid[0], other_grid[1], other_grid[2]\n",
    "    data_frame_list.append([segment, grid1, grid2, grid3, other_grid1, other_grid2, other_grid3, segment_LR.score(segment_input, segment_output)])\n",
    "                \n",
    "#display(df.Segment_id.unique(), df.Segment_id.unique().shape, r_scores_for_each_segment)\n",
    "#display('all the grid scores\\n', all_grid_scores)\n",
    "column_df = ['segmentId', 'Evapotranspiration', 'Precipitation', 'IrrigationPumping', 'EvapotranspirationAndPrecipitation',\n",
    "             'EvapotranspirationAndIrrigationPumping', 'PrecipitationAndIrrigationPumping', 'all3Used']\n",
    "full_df = pd.DataFrame(data_frame_list, columns = column_df)\n",
    "#full_df.head(5)\n",
    "full_df.save_csv(index = False)"
   ]
  },
  {
   "cell_type": "code",
   "execution_count": 6,
   "metadata": {},
   "outputs": [],
   "source": [
    "# r_scores = []\n",
    "# for segment in df.Segment_id.unique():\n",
    "#     current_segment = df[df.Segment_id == segment]\n",
    "#     segment_input = current_segment.drop(['Observed', 'Segment_id'], axis=1)\n",
    "#     display(segment_input.head(5))\n",
    "#     segment_output = current_segment[['Observed']]\n",
    "#     segment_LR = LR()\n",
    "#     segment_LR.fit(segment_input, segment_output)\n",
    "#     r_scores.append(segment_LR.score(segment_input, segment_output))\n",
    "# display(df.Segment_id.unique(), df.Segment_id.unique().shape, r_scores)\n"
   ]
  },
  {
   "cell_type": "code",
   "execution_count": null,
   "metadata": {},
   "outputs": [],
   "source": []
  }
 ],
 "metadata": {
  "kernelspec": {
   "display_name": "Python 3",
   "language": "python",
   "name": "python3"
  },
  "language_info": {
   "codemirror_mode": {
    "name": "ipython",
    "version": 3
   },
   "file_extension": ".py",
   "mimetype": "text/x-python",
   "name": "python",
   "nbconvert_exporter": "python",
   "pygments_lexer": "ipython3",
   "version": "3.7.1"
  }
 },
 "nbformat": 4,
 "nbformat_minor": 4
}
